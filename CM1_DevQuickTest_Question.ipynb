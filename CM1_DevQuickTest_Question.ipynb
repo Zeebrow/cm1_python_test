{
 "cells": [
  {
   "cell_type": "markdown",
   "metadata": {
    "colab_type": "text",
    "id": "view-in-github"
   },
   "source": [
    "<a href=\"https://colab.research.google.com/github/llu13701/cm1_python_test/blob/main/CM1_DevQuickTest_Question.ipynb\" target=\"_parent\"><img src=\"https://colab.research.google.com/assets/colab-badge.svg\" alt=\"Open In Colab\"/></a>"
   ]
  },
  {
   "cell_type": "markdown",
   "metadata": {
    "id": "rHaZgOQJ_cH2"
   },
   "source": [
    "### Test Instructions\n",
    "The purpose of this simple coding test is to allow us to get a grasp on the quality of your code and to identify the role that would suit you best within our team. You don't NEED to be able to answer all of the items, but the ones that you do answer need to be correct. Feel free to use Google or any other tools that you prefer to complete these tasks.\n",
    "\n",
    "Install any needed third-party libraries below this block. Please install the minimum amount of libraries you need."
   ]
  },
  {
   "cell_type": "markdown",
   "metadata": {
    "id": "DS8Y5bTE_cNX"
   },
   "source": [
    "!pip install whatever_you_need"
   ]
  },
  {
   "cell_type": "code",
   "execution_count": 359,
   "metadata": {
    "id": "GeZ98TNS_ZDK"
   },
   "outputs": [],
   "source": [
    "import pandas as pd\n",
    "import numpy as np\n",
    "import matplotlib.pyplot as plt\n",
    "import plotly\n",
    "\n",
    "import os\n",
    "import discord\n",
    "from dotenv import load_dotenv\n",
    "from typing import Dict, List, Any\n",
    "\n",
    "from langchain.prompts import (\n",
    "    ChatPromptTemplate,\n",
    "    PromptTemplate,\n",
    "    SystemMessagePromptTemplate,\n",
    "    HumanMessagePromptTemplate,\n",
    ")\n",
    "\n",
    "from langchain import LLMChain\n",
    "from langchain.memory import ChatMessageHistory\n",
    "from langchain import chat_models\n"
   ]
  },
  {
   "cell_type": "markdown",
   "metadata": {
    "id": "tT8GriLI_qcl"
   },
   "source": [
    "### Task 1 (Data manipulation / Visualization)\n",
    "Download the file: https://drive.google.com/file/d/1R_M3xI3b_BqAN_xWLqJDneg273X_sok5/view?usp=sharing\n",
    "\n",
    "In `message_data.csv` there's two columns, one corresponds to the unique id of someone sending a message and the other one to when they sent it.\n",
    "\n",
    "Generate an interactive chart that shows the percentage of daily messages sent by new users (those who sent their first message ever on a given day)."
   ]
  },
  {
   "cell_type": "code",
   "execution_count": 402,
   "metadata": {
    "colab": {
     "base_uri": "https://localhost:8080/",
     "height": 542
    },
    "id": "gMe_jfXp_2zu",
    "outputId": "519b7f24-5911-45b6-ad3a-218ad4aecbf0"
   },
   "outputs": [
    {
     "name": "stdout",
     "output_type": "stream",
     "text": [
      "        date  message_count  new_user_messages_count         pct\n",
      "0 2022-05-01              1                        1  100.000000\n",
      "1 2022-05-02              5                        3   60.000000\n",
      "2 2022-05-03            830                      786   94.698795\n",
      "3 2022-05-04           2937                     1323   45.045965\n",
      "4 2022-05-05           1384                      274   19.797688\n"
     ]
    },
    {
     "name": "stderr",
     "output_type": "stream",
     "text": [
      "Executing <Task pending name='Task-4' coro=<Kernel.dispatch_queue() running at /home/zeebrow/Documents/work/communityone-coding-challenge/cm1_python_test/venv/lib/python3.10/site-packages/ipykernel/kernelbase.py:516> wait_for=<Future pending cb=[Task.task_wakeup()] created at /home/zeebrow/Documents/work/communityone-coding-challenge/cm1_python_test/venv/lib/python3.10/site-packages/tornado/queues.py:248> cb=[IOLoop.add_future.<locals>.<lambda>() at /home/zeebrow/Documents/work/communityone-coding-challenge/cm1_python_test/venv/lib/python3.10/site-packages/tornado/ioloop.py:685] created at /usr/lib/python3.10/asyncio/tasks.py:636> took 12.920 seconds\n"
     ]
    }
   ],
   "source": [
    "# ~20 seconds\n",
    "\n",
    "message_data_file = 'message_data.csv'\n",
    "\n",
    "message_data = pd.read_csv(message_data_file, parse_dates=[\"message_time\"])\n",
    "message_data['message_time'] = pd.to_datetime(message_data['message_time'], format=\"%Y-%m-%d %H:%M:%S.%f000%z\", errors=\"coerce\")\n",
    "\n",
    "# get rid of bad dates - save for later\n",
    "bad_dates = message_data.loc[message_data['message_time'].isnull()]\n",
    "message_data = message_data.loc[message_data['message_time'].notnull()]\n",
    "\n",
    "# date field for aggregation\n",
    "message_data['date'] = pd.to_datetime(message_data['message_time'].dt.date)\n",
    "\n",
    "#\n",
    "daily_message_count = message_data.groupby(['date'])['message_id'].count().reset_index(name='message_count')\n",
    "daily_message_count['date'] = pd.to_datetime(daily_message_count['date'])\n",
    "\n",
    "# main df\n",
    "first_messages = message_data.groupby(['author_id'])['message_time'].min().reset_index(name='first_message')\n",
    "first_messages['date'] = pd.to_datetime(first_messages['first_message'].dt.date)\n",
    "\n",
    "# get count of messages each user sent on first day\n",
    "first_messages['count'] = 0\n",
    "\n",
    "for d, a in zip(first_messages['date'], first_messages['author_id']):\n",
    "\n",
    "    c = message_data[ (message_data['date'] == d) & (message_data['author_id'] == a) ].groupby(['author_id'])['message_id'].count().reset_index(name='count').get('count')[0]\n",
    "    \n",
    "    first_messages.loc[(first_messages['date'] == d) & (first_messages['author_id'] == a), 'count'] = c\n",
    "\n",
    "    first_messages['pct'] = 0\n",
    "first_messages['days_total'] = 0\n",
    "\n",
    "for d, a, c in zip(first_messages['date'], first_messages['author_id'], first_messages['count']):\n",
    "    for dc in daily_message_count.loc[daily_message_count['date'] == d, 'message_count']:\n",
    "        # set each day's total message count\n",
    "        first_messages.loc[(first_messages['date'] == d) & (first_messages['author_id'] == a), 'days_total'] = dc\n",
    "        # set each day's new user message count%\n",
    "        first_messages.loc[(first_messages['date'] == d) & (first_messages['author_id'] == a), 'pct'] = (c / dc) * 100\n",
    "\n",
    "\n",
    "# count all new users' messages on their first day chatting\n",
    "a = first_messages.groupby('date')['count'].sum().reset_index(name='new_user_messages_count')\n",
    "a['date'] = pd.to_datetime(a['date'])\n",
    "b = daily_message_count.merge(a)\n",
    "b['pct'] = b['new_user_messages_count'] / b['message_count'] * 100\n",
    "print(b.head())  # passes a sniff test\n"
   ]
  },
  {
   "cell_type": "code",
   "execution_count": 405,
   "metadata": {},
   "outputs": [
    {
     "data": {
      "application/vnd.plotly.v1+json": {
       "config": {
        "plotlyServerURL": "https://plot.ly"
       },
       "data": [
        {
         "customdata": [
          100,
          60,
          94.6987951807229,
          45.04596527068438,
          19.797687861271676,
          18.937198067632853,
          12.711864406779661,
          20.910384068278805,
          6.391752577319587,
          6.329113924050633,
          11.481481481481481,
          6.422018348623854,
          3.5149384885764503,
          5.357142857142857,
          9.59409594095941,
          4.193548387096775,
          4.285714285714286,
          16.422764227642276,
          13.744075829383887,
          8.695652173913043,
          2.0408163265306123,
          6.0344827586206895,
          19.155844155844157,
          19.114688128772634,
          25.671641791044774,
          6.502242152466367,
          13.452914798206278,
          11.224489795918368,
          5.710491367861885,
          11.094224924012158,
          21.247892074198987,
          16.432337434094904,
          32.262669521770164,
          30.569105691056908,
          17.91164658634538,
          25.26912181303116,
          33.212604128938786,
          47.15112736136502,
          56.45397628879712,
          13.760627861347285,
          5.555555555555555
         ],
         "hovertemplate": "%{x}<br><b>%{customdata:.1f}% New User Messages</b><br><b>Total Messages Sent:</b> %{y}",
         "name": "All Messages",
         "type": "bar",
         "x": [
          "2022-05-01T00:00:00",
          "2022-05-02T00:00:00",
          "2022-05-03T00:00:00",
          "2022-05-04T00:00:00",
          "2022-05-05T00:00:00",
          "2022-05-06T00:00:00",
          "2022-05-07T00:00:00",
          "2022-05-08T00:00:00",
          "2022-05-09T00:00:00",
          "2022-05-10T00:00:00",
          "2022-05-11T00:00:00",
          "2022-05-12T00:00:00",
          "2022-05-13T00:00:00",
          "2022-05-14T00:00:00",
          "2022-05-15T00:00:00",
          "2022-05-16T00:00:00",
          "2022-05-17T00:00:00",
          "2022-05-18T00:00:00",
          "2022-05-19T00:00:00",
          "2022-05-20T00:00:00",
          "2022-05-21T00:00:00",
          "2022-05-22T00:00:00",
          "2022-05-23T00:00:00",
          "2022-05-24T00:00:00",
          "2022-05-25T00:00:00",
          "2022-05-26T00:00:00",
          "2022-05-27T00:00:00",
          "2022-05-28T00:00:00",
          "2022-05-29T00:00:00",
          "2022-05-30T00:00:00",
          "2022-05-31T00:00:00",
          "2022-06-01T00:00:00",
          "2022-06-02T00:00:00",
          "2022-06-03T00:00:00",
          "2022-06-04T00:00:00",
          "2022-06-05T00:00:00",
          "2022-06-06T00:00:00",
          "2022-06-07T00:00:00",
          "2022-06-08T00:00:00",
          "2022-06-09T00:00:00",
          "2022-06-10T00:00:00"
         ],
         "y": [
          1,
          5,
          830,
          2937,
          1384,
          1035,
          708,
          703,
          485,
          711,
          540,
          545,
          569,
          280,
          271,
          310,
          350,
          615,
          211,
          322,
          147,
          232,
          308,
          497,
          670,
          446,
          446,
          392,
          753,
          658,
          593,
          1138,
          1401,
          1845,
          1245,
          1765,
          2761,
          6564,
          7507,
          7645,
          126
         ]
        },
        {
         "customdata": [
          100,
          60,
          94.6987951807229,
          45.04596527068438,
          19.797687861271676,
          18.937198067632853,
          12.711864406779661,
          20.910384068278805,
          6.391752577319587,
          6.329113924050633,
          11.481481481481481,
          6.422018348623854,
          3.5149384885764503,
          5.357142857142857,
          9.59409594095941,
          4.193548387096775,
          4.285714285714286,
          16.422764227642276,
          13.744075829383887,
          8.695652173913043,
          2.0408163265306123,
          6.0344827586206895,
          19.155844155844157,
          19.114688128772634,
          25.671641791044774,
          6.502242152466367,
          13.452914798206278,
          11.224489795918368,
          5.710491367861885,
          11.094224924012158,
          21.247892074198987,
          16.432337434094904,
          32.262669521770164,
          30.569105691056908,
          17.91164658634538,
          25.26912181303116,
          33.212604128938786,
          47.15112736136502,
          56.45397628879712,
          13.760627861347285,
          5.555555555555555
         ],
         "hovertemplate": "%{x}<br><b>%{customdata:.1f}% New User Messages</b><br><b>New User Messages:</b> %{y}",
         "name": "New User Messages",
         "type": "bar",
         "x": [
          "2022-05-01T00:00:00",
          "2022-05-02T00:00:00",
          "2022-05-03T00:00:00",
          "2022-05-04T00:00:00",
          "2022-05-05T00:00:00",
          "2022-05-06T00:00:00",
          "2022-05-07T00:00:00",
          "2022-05-08T00:00:00",
          "2022-05-09T00:00:00",
          "2022-05-10T00:00:00",
          "2022-05-11T00:00:00",
          "2022-05-12T00:00:00",
          "2022-05-13T00:00:00",
          "2022-05-14T00:00:00",
          "2022-05-15T00:00:00",
          "2022-05-16T00:00:00",
          "2022-05-17T00:00:00",
          "2022-05-18T00:00:00",
          "2022-05-19T00:00:00",
          "2022-05-20T00:00:00",
          "2022-05-21T00:00:00",
          "2022-05-22T00:00:00",
          "2022-05-23T00:00:00",
          "2022-05-24T00:00:00",
          "2022-05-25T00:00:00",
          "2022-05-26T00:00:00",
          "2022-05-27T00:00:00",
          "2022-05-28T00:00:00",
          "2022-05-29T00:00:00",
          "2022-05-30T00:00:00",
          "2022-05-31T00:00:00",
          "2022-06-01T00:00:00",
          "2022-06-02T00:00:00",
          "2022-06-03T00:00:00",
          "2022-06-04T00:00:00",
          "2022-06-05T00:00:00",
          "2022-06-06T00:00:00",
          "2022-06-07T00:00:00",
          "2022-06-08T00:00:00",
          "2022-06-09T00:00:00",
          "2022-06-10T00:00:00"
         ],
         "y": [
          1,
          3,
          786,
          1323,
          274,
          196,
          90,
          147,
          31,
          45,
          62,
          35,
          20,
          15,
          26,
          13,
          15,
          101,
          29,
          28,
          3,
          14,
          59,
          95,
          172,
          29,
          60,
          44,
          43,
          73,
          126,
          187,
          452,
          564,
          223,
          446,
          917,
          3095,
          4238,
          1052,
          7
         ]
        }
       ],
       "layout": {
        "barmode": "overlay",
        "template": {
         "data": {
          "bar": [
           {
            "error_x": {
             "color": "#2a3f5f"
            },
            "error_y": {
             "color": "#2a3f5f"
            },
            "marker": {
             "line": {
              "color": "#E5ECF6",
              "width": 0.5
             },
             "pattern": {
              "fillmode": "overlay",
              "size": 10,
              "solidity": 0.2
             }
            },
            "type": "bar"
           }
          ],
          "barpolar": [
           {
            "marker": {
             "line": {
              "color": "#E5ECF6",
              "width": 0.5
             },
             "pattern": {
              "fillmode": "overlay",
              "size": 10,
              "solidity": 0.2
             }
            },
            "type": "barpolar"
           }
          ],
          "carpet": [
           {
            "aaxis": {
             "endlinecolor": "#2a3f5f",
             "gridcolor": "white",
             "linecolor": "white",
             "minorgridcolor": "white",
             "startlinecolor": "#2a3f5f"
            },
            "baxis": {
             "endlinecolor": "#2a3f5f",
             "gridcolor": "white",
             "linecolor": "white",
             "minorgridcolor": "white",
             "startlinecolor": "#2a3f5f"
            },
            "type": "carpet"
           }
          ],
          "choropleth": [
           {
            "colorbar": {
             "outlinewidth": 0,
             "ticks": ""
            },
            "type": "choropleth"
           }
          ],
          "contour": [
           {
            "colorbar": {
             "outlinewidth": 0,
             "ticks": ""
            },
            "colorscale": [
             [
              0,
              "#0d0887"
             ],
             [
              0.1111111111111111,
              "#46039f"
             ],
             [
              0.2222222222222222,
              "#7201a8"
             ],
             [
              0.3333333333333333,
              "#9c179e"
             ],
             [
              0.4444444444444444,
              "#bd3786"
             ],
             [
              0.5555555555555556,
              "#d8576b"
             ],
             [
              0.6666666666666666,
              "#ed7953"
             ],
             [
              0.7777777777777778,
              "#fb9f3a"
             ],
             [
              0.8888888888888888,
              "#fdca26"
             ],
             [
              1,
              "#f0f921"
             ]
            ],
            "type": "contour"
           }
          ],
          "contourcarpet": [
           {
            "colorbar": {
             "outlinewidth": 0,
             "ticks": ""
            },
            "type": "contourcarpet"
           }
          ],
          "heatmap": [
           {
            "colorbar": {
             "outlinewidth": 0,
             "ticks": ""
            },
            "colorscale": [
             [
              0,
              "#0d0887"
             ],
             [
              0.1111111111111111,
              "#46039f"
             ],
             [
              0.2222222222222222,
              "#7201a8"
             ],
             [
              0.3333333333333333,
              "#9c179e"
             ],
             [
              0.4444444444444444,
              "#bd3786"
             ],
             [
              0.5555555555555556,
              "#d8576b"
             ],
             [
              0.6666666666666666,
              "#ed7953"
             ],
             [
              0.7777777777777778,
              "#fb9f3a"
             ],
             [
              0.8888888888888888,
              "#fdca26"
             ],
             [
              1,
              "#f0f921"
             ]
            ],
            "type": "heatmap"
           }
          ],
          "heatmapgl": [
           {
            "colorbar": {
             "outlinewidth": 0,
             "ticks": ""
            },
            "colorscale": [
             [
              0,
              "#0d0887"
             ],
             [
              0.1111111111111111,
              "#46039f"
             ],
             [
              0.2222222222222222,
              "#7201a8"
             ],
             [
              0.3333333333333333,
              "#9c179e"
             ],
             [
              0.4444444444444444,
              "#bd3786"
             ],
             [
              0.5555555555555556,
              "#d8576b"
             ],
             [
              0.6666666666666666,
              "#ed7953"
             ],
             [
              0.7777777777777778,
              "#fb9f3a"
             ],
             [
              0.8888888888888888,
              "#fdca26"
             ],
             [
              1,
              "#f0f921"
             ]
            ],
            "type": "heatmapgl"
           }
          ],
          "histogram": [
           {
            "marker": {
             "pattern": {
              "fillmode": "overlay",
              "size": 10,
              "solidity": 0.2
             }
            },
            "type": "histogram"
           }
          ],
          "histogram2d": [
           {
            "colorbar": {
             "outlinewidth": 0,
             "ticks": ""
            },
            "colorscale": [
             [
              0,
              "#0d0887"
             ],
             [
              0.1111111111111111,
              "#46039f"
             ],
             [
              0.2222222222222222,
              "#7201a8"
             ],
             [
              0.3333333333333333,
              "#9c179e"
             ],
             [
              0.4444444444444444,
              "#bd3786"
             ],
             [
              0.5555555555555556,
              "#d8576b"
             ],
             [
              0.6666666666666666,
              "#ed7953"
             ],
             [
              0.7777777777777778,
              "#fb9f3a"
             ],
             [
              0.8888888888888888,
              "#fdca26"
             ],
             [
              1,
              "#f0f921"
             ]
            ],
            "type": "histogram2d"
           }
          ],
          "histogram2dcontour": [
           {
            "colorbar": {
             "outlinewidth": 0,
             "ticks": ""
            },
            "colorscale": [
             [
              0,
              "#0d0887"
             ],
             [
              0.1111111111111111,
              "#46039f"
             ],
             [
              0.2222222222222222,
              "#7201a8"
             ],
             [
              0.3333333333333333,
              "#9c179e"
             ],
             [
              0.4444444444444444,
              "#bd3786"
             ],
             [
              0.5555555555555556,
              "#d8576b"
             ],
             [
              0.6666666666666666,
              "#ed7953"
             ],
             [
              0.7777777777777778,
              "#fb9f3a"
             ],
             [
              0.8888888888888888,
              "#fdca26"
             ],
             [
              1,
              "#f0f921"
             ]
            ],
            "type": "histogram2dcontour"
           }
          ],
          "mesh3d": [
           {
            "colorbar": {
             "outlinewidth": 0,
             "ticks": ""
            },
            "type": "mesh3d"
           }
          ],
          "parcoords": [
           {
            "line": {
             "colorbar": {
              "outlinewidth": 0,
              "ticks": ""
             }
            },
            "type": "parcoords"
           }
          ],
          "pie": [
           {
            "automargin": true,
            "type": "pie"
           }
          ],
          "scatter": [
           {
            "fillpattern": {
             "fillmode": "overlay",
             "size": 10,
             "solidity": 0.2
            },
            "type": "scatter"
           }
          ],
          "scatter3d": [
           {
            "line": {
             "colorbar": {
              "outlinewidth": 0,
              "ticks": ""
             }
            },
            "marker": {
             "colorbar": {
              "outlinewidth": 0,
              "ticks": ""
             }
            },
            "type": "scatter3d"
           }
          ],
          "scattercarpet": [
           {
            "marker": {
             "colorbar": {
              "outlinewidth": 0,
              "ticks": ""
             }
            },
            "type": "scattercarpet"
           }
          ],
          "scattergeo": [
           {
            "marker": {
             "colorbar": {
              "outlinewidth": 0,
              "ticks": ""
             }
            },
            "type": "scattergeo"
           }
          ],
          "scattergl": [
           {
            "marker": {
             "colorbar": {
              "outlinewidth": 0,
              "ticks": ""
             }
            },
            "type": "scattergl"
           }
          ],
          "scattermapbox": [
           {
            "marker": {
             "colorbar": {
              "outlinewidth": 0,
              "ticks": ""
             }
            },
            "type": "scattermapbox"
           }
          ],
          "scatterpolar": [
           {
            "marker": {
             "colorbar": {
              "outlinewidth": 0,
              "ticks": ""
             }
            },
            "type": "scatterpolar"
           }
          ],
          "scatterpolargl": [
           {
            "marker": {
             "colorbar": {
              "outlinewidth": 0,
              "ticks": ""
             }
            },
            "type": "scatterpolargl"
           }
          ],
          "scatterternary": [
           {
            "marker": {
             "colorbar": {
              "outlinewidth": 0,
              "ticks": ""
             }
            },
            "type": "scatterternary"
           }
          ],
          "surface": [
           {
            "colorbar": {
             "outlinewidth": 0,
             "ticks": ""
            },
            "colorscale": [
             [
              0,
              "#0d0887"
             ],
             [
              0.1111111111111111,
              "#46039f"
             ],
             [
              0.2222222222222222,
              "#7201a8"
             ],
             [
              0.3333333333333333,
              "#9c179e"
             ],
             [
              0.4444444444444444,
              "#bd3786"
             ],
             [
              0.5555555555555556,
              "#d8576b"
             ],
             [
              0.6666666666666666,
              "#ed7953"
             ],
             [
              0.7777777777777778,
              "#fb9f3a"
             ],
             [
              0.8888888888888888,
              "#fdca26"
             ],
             [
              1,
              "#f0f921"
             ]
            ],
            "type": "surface"
           }
          ],
          "table": [
           {
            "cells": {
             "fill": {
              "color": "#EBF0F8"
             },
             "line": {
              "color": "white"
             }
            },
            "header": {
             "fill": {
              "color": "#C8D4E3"
             },
             "line": {
              "color": "white"
             }
            },
            "type": "table"
           }
          ]
         },
         "layout": {
          "annotationdefaults": {
           "arrowcolor": "#2a3f5f",
           "arrowhead": 0,
           "arrowwidth": 1
          },
          "autotypenumbers": "strict",
          "coloraxis": {
           "colorbar": {
            "outlinewidth": 0,
            "ticks": ""
           }
          },
          "colorscale": {
           "diverging": [
            [
             0,
             "#8e0152"
            ],
            [
             0.1,
             "#c51b7d"
            ],
            [
             0.2,
             "#de77ae"
            ],
            [
             0.3,
             "#f1b6da"
            ],
            [
             0.4,
             "#fde0ef"
            ],
            [
             0.5,
             "#f7f7f7"
            ],
            [
             0.6,
             "#e6f5d0"
            ],
            [
             0.7,
             "#b8e186"
            ],
            [
             0.8,
             "#7fbc41"
            ],
            [
             0.9,
             "#4d9221"
            ],
            [
             1,
             "#276419"
            ]
           ],
           "sequential": [
            [
             0,
             "#0d0887"
            ],
            [
             0.1111111111111111,
             "#46039f"
            ],
            [
             0.2222222222222222,
             "#7201a8"
            ],
            [
             0.3333333333333333,
             "#9c179e"
            ],
            [
             0.4444444444444444,
             "#bd3786"
            ],
            [
             0.5555555555555556,
             "#d8576b"
            ],
            [
             0.6666666666666666,
             "#ed7953"
            ],
            [
             0.7777777777777778,
             "#fb9f3a"
            ],
            [
             0.8888888888888888,
             "#fdca26"
            ],
            [
             1,
             "#f0f921"
            ]
           ],
           "sequentialminus": [
            [
             0,
             "#0d0887"
            ],
            [
             0.1111111111111111,
             "#46039f"
            ],
            [
             0.2222222222222222,
             "#7201a8"
            ],
            [
             0.3333333333333333,
             "#9c179e"
            ],
            [
             0.4444444444444444,
             "#bd3786"
            ],
            [
             0.5555555555555556,
             "#d8576b"
            ],
            [
             0.6666666666666666,
             "#ed7953"
            ],
            [
             0.7777777777777778,
             "#fb9f3a"
            ],
            [
             0.8888888888888888,
             "#fdca26"
            ],
            [
             1,
             "#f0f921"
            ]
           ]
          },
          "colorway": [
           "#636efa",
           "#EF553B",
           "#00cc96",
           "#ab63fa",
           "#FFA15A",
           "#19d3f3",
           "#FF6692",
           "#B6E880",
           "#FF97FF",
           "#FECB52"
          ],
          "font": {
           "color": "#2a3f5f"
          },
          "geo": {
           "bgcolor": "white",
           "lakecolor": "white",
           "landcolor": "#E5ECF6",
           "showlakes": true,
           "showland": true,
           "subunitcolor": "white"
          },
          "hoverlabel": {
           "align": "left"
          },
          "hovermode": "closest",
          "mapbox": {
           "style": "light"
          },
          "paper_bgcolor": "white",
          "plot_bgcolor": "#E5ECF6",
          "polar": {
           "angularaxis": {
            "gridcolor": "white",
            "linecolor": "white",
            "ticks": ""
           },
           "bgcolor": "#E5ECF6",
           "radialaxis": {
            "gridcolor": "white",
            "linecolor": "white",
            "ticks": ""
           }
          },
          "scene": {
           "xaxis": {
            "backgroundcolor": "#E5ECF6",
            "gridcolor": "white",
            "gridwidth": 2,
            "linecolor": "white",
            "showbackground": true,
            "ticks": "",
            "zerolinecolor": "white"
           },
           "yaxis": {
            "backgroundcolor": "#E5ECF6",
            "gridcolor": "white",
            "gridwidth": 2,
            "linecolor": "white",
            "showbackground": true,
            "ticks": "",
            "zerolinecolor": "white"
           },
           "zaxis": {
            "backgroundcolor": "#E5ECF6",
            "gridcolor": "white",
            "gridwidth": 2,
            "linecolor": "white",
            "showbackground": true,
            "ticks": "",
            "zerolinecolor": "white"
           }
          },
          "shapedefaults": {
           "line": {
            "color": "#2a3f5f"
           }
          },
          "ternary": {
           "aaxis": {
            "gridcolor": "white",
            "linecolor": "white",
            "ticks": ""
           },
           "baxis": {
            "gridcolor": "white",
            "linecolor": "white",
            "ticks": ""
           },
           "bgcolor": "#E5ECF6",
           "caxis": {
            "gridcolor": "white",
            "linecolor": "white",
            "ticks": ""
           }
          },
          "title": {
           "x": 0.05
          },
          "xaxis": {
           "automargin": true,
           "gridcolor": "white",
           "linecolor": "white",
           "ticks": "",
           "title": {
            "standoff": 15
           },
           "zerolinecolor": "white",
           "zerolinewidth": 2
          },
          "yaxis": {
           "automargin": true,
           "gridcolor": "white",
           "linecolor": "white",
           "ticks": "",
           "title": {
            "standoff": 15
           },
           "zerolinecolor": "white",
           "zerolinewidth": 2
          }
         }
        },
        "title": {
         "text": "New User Message Volume by Date - Hover for Percentage"
        },
        "xaxis": {
         "title": {
          "text": "Date"
         }
        },
        "yaxis": {
         "title": {
          "text": "Message Count"
         }
        }
       }
      },
      "text/html": [
       "<div>                            <div id=\"389ee14a-785c-415b-a986-b8feb87e3371\" class=\"plotly-graph-div\" style=\"height:525px; width:100%;\"></div>            <script type=\"text/javascript\">                require([\"plotly\"], function(Plotly) {                    window.PLOTLYENV=window.PLOTLYENV || {};                                    if (document.getElementById(\"389ee14a-785c-415b-a986-b8feb87e3371\")) {                    Plotly.newPlot(                        \"389ee14a-785c-415b-a986-b8feb87e3371\",                        [{\"customdata\":[100.0,60.0,94.6987951807229,45.04596527068438,19.797687861271676,18.937198067632853,12.711864406779661,20.910384068278805,6.391752577319587,6.329113924050633,11.481481481481481,6.422018348623854,3.5149384885764503,5.357142857142857,9.59409594095941,4.193548387096775,4.285714285714286,16.422764227642276,13.744075829383887,8.695652173913043,2.0408163265306123,6.0344827586206895,19.155844155844157,19.114688128772634,25.671641791044774,6.502242152466367,13.452914798206278,11.224489795918368,5.710491367861885,11.094224924012158,21.247892074198987,16.432337434094904,32.262669521770164,30.569105691056908,17.91164658634538,25.26912181303116,33.212604128938786,47.15112736136502,56.45397628879712,13.760627861347285,5.555555555555555],\"hovertemplate\":\"%{x}\\u003cbr\\u003e\\u003cb\\u003e%{customdata:.1f}% New User Messages\\u003c\\u002fb\\u003e\\u003cbr\\u003e\\u003cb\\u003eTotal Messages Sent:\\u003c\\u002fb\\u003e %{y}\",\"name\":\"All Messages\",\"x\":[\"2022-05-01T00:00:00\",\"2022-05-02T00:00:00\",\"2022-05-03T00:00:00\",\"2022-05-04T00:00:00\",\"2022-05-05T00:00:00\",\"2022-05-06T00:00:00\",\"2022-05-07T00:00:00\",\"2022-05-08T00:00:00\",\"2022-05-09T00:00:00\",\"2022-05-10T00:00:00\",\"2022-05-11T00:00:00\",\"2022-05-12T00:00:00\",\"2022-05-13T00:00:00\",\"2022-05-14T00:00:00\",\"2022-05-15T00:00:00\",\"2022-05-16T00:00:00\",\"2022-05-17T00:00:00\",\"2022-05-18T00:00:00\",\"2022-05-19T00:00:00\",\"2022-05-20T00:00:00\",\"2022-05-21T00:00:00\",\"2022-05-22T00:00:00\",\"2022-05-23T00:00:00\",\"2022-05-24T00:00:00\",\"2022-05-25T00:00:00\",\"2022-05-26T00:00:00\",\"2022-05-27T00:00:00\",\"2022-05-28T00:00:00\",\"2022-05-29T00:00:00\",\"2022-05-30T00:00:00\",\"2022-05-31T00:00:00\",\"2022-06-01T00:00:00\",\"2022-06-02T00:00:00\",\"2022-06-03T00:00:00\",\"2022-06-04T00:00:00\",\"2022-06-05T00:00:00\",\"2022-06-06T00:00:00\",\"2022-06-07T00:00:00\",\"2022-06-08T00:00:00\",\"2022-06-09T00:00:00\",\"2022-06-10T00:00:00\"],\"y\":[1,5,830,2937,1384,1035,708,703,485,711,540,545,569,280,271,310,350,615,211,322,147,232,308,497,670,446,446,392,753,658,593,1138,1401,1845,1245,1765,2761,6564,7507,7645,126],\"type\":\"bar\"},{\"customdata\":[100.0,60.0,94.6987951807229,45.04596527068438,19.797687861271676,18.937198067632853,12.711864406779661,20.910384068278805,6.391752577319587,6.329113924050633,11.481481481481481,6.422018348623854,3.5149384885764503,5.357142857142857,9.59409594095941,4.193548387096775,4.285714285714286,16.422764227642276,13.744075829383887,8.695652173913043,2.0408163265306123,6.0344827586206895,19.155844155844157,19.114688128772634,25.671641791044774,6.502242152466367,13.452914798206278,11.224489795918368,5.710491367861885,11.094224924012158,21.247892074198987,16.432337434094904,32.262669521770164,30.569105691056908,17.91164658634538,25.26912181303116,33.212604128938786,47.15112736136502,56.45397628879712,13.760627861347285,5.555555555555555],\"hovertemplate\":\"%{x}\\u003cbr\\u003e\\u003cb\\u003e%{customdata:.1f}% New User Messages\\u003c\\u002fb\\u003e\\u003cbr\\u003e\\u003cb\\u003eNew User Messages:\\u003c\\u002fb\\u003e %{y}\",\"name\":\"New User Messages\",\"x\":[\"2022-05-01T00:00:00\",\"2022-05-02T00:00:00\",\"2022-05-03T00:00:00\",\"2022-05-04T00:00:00\",\"2022-05-05T00:00:00\",\"2022-05-06T00:00:00\",\"2022-05-07T00:00:00\",\"2022-05-08T00:00:00\",\"2022-05-09T00:00:00\",\"2022-05-10T00:00:00\",\"2022-05-11T00:00:00\",\"2022-05-12T00:00:00\",\"2022-05-13T00:00:00\",\"2022-05-14T00:00:00\",\"2022-05-15T00:00:00\",\"2022-05-16T00:00:00\",\"2022-05-17T00:00:00\",\"2022-05-18T00:00:00\",\"2022-05-19T00:00:00\",\"2022-05-20T00:00:00\",\"2022-05-21T00:00:00\",\"2022-05-22T00:00:00\",\"2022-05-23T00:00:00\",\"2022-05-24T00:00:00\",\"2022-05-25T00:00:00\",\"2022-05-26T00:00:00\",\"2022-05-27T00:00:00\",\"2022-05-28T00:00:00\",\"2022-05-29T00:00:00\",\"2022-05-30T00:00:00\",\"2022-05-31T00:00:00\",\"2022-06-01T00:00:00\",\"2022-06-02T00:00:00\",\"2022-06-03T00:00:00\",\"2022-06-04T00:00:00\",\"2022-06-05T00:00:00\",\"2022-06-06T00:00:00\",\"2022-06-07T00:00:00\",\"2022-06-08T00:00:00\",\"2022-06-09T00:00:00\",\"2022-06-10T00:00:00\"],\"y\":[1,3,786,1323,274,196,90,147,31,45,62,35,20,15,26,13,15,101,29,28,3,14,59,95,172,29,60,44,43,73,126,187,452,564,223,446,917,3095,4238,1052,7],\"type\":\"bar\"}],                        {\"template\":{\"data\":{\"histogram2dcontour\":[{\"type\":\"histogram2dcontour\",\"colorbar\":{\"outlinewidth\":0,\"ticks\":\"\"},\"colorscale\":[[0.0,\"#0d0887\"],[0.1111111111111111,\"#46039f\"],[0.2222222222222222,\"#7201a8\"],[0.3333333333333333,\"#9c179e\"],[0.4444444444444444,\"#bd3786\"],[0.5555555555555556,\"#d8576b\"],[0.6666666666666666,\"#ed7953\"],[0.7777777777777778,\"#fb9f3a\"],[0.8888888888888888,\"#fdca26\"],[1.0,\"#f0f921\"]]}],\"choropleth\":[{\"type\":\"choropleth\",\"colorbar\":{\"outlinewidth\":0,\"ticks\":\"\"}}],\"histogram2d\":[{\"type\":\"histogram2d\",\"colorbar\":{\"outlinewidth\":0,\"ticks\":\"\"},\"colorscale\":[[0.0,\"#0d0887\"],[0.1111111111111111,\"#46039f\"],[0.2222222222222222,\"#7201a8\"],[0.3333333333333333,\"#9c179e\"],[0.4444444444444444,\"#bd3786\"],[0.5555555555555556,\"#d8576b\"],[0.6666666666666666,\"#ed7953\"],[0.7777777777777778,\"#fb9f3a\"],[0.8888888888888888,\"#fdca26\"],[1.0,\"#f0f921\"]]}],\"heatmap\":[{\"type\":\"heatmap\",\"colorbar\":{\"outlinewidth\":0,\"ticks\":\"\"},\"colorscale\":[[0.0,\"#0d0887\"],[0.1111111111111111,\"#46039f\"],[0.2222222222222222,\"#7201a8\"],[0.3333333333333333,\"#9c179e\"],[0.4444444444444444,\"#bd3786\"],[0.5555555555555556,\"#d8576b\"],[0.6666666666666666,\"#ed7953\"],[0.7777777777777778,\"#fb9f3a\"],[0.8888888888888888,\"#fdca26\"],[1.0,\"#f0f921\"]]}],\"heatmapgl\":[{\"type\":\"heatmapgl\",\"colorbar\":{\"outlinewidth\":0,\"ticks\":\"\"},\"colorscale\":[[0.0,\"#0d0887\"],[0.1111111111111111,\"#46039f\"],[0.2222222222222222,\"#7201a8\"],[0.3333333333333333,\"#9c179e\"],[0.4444444444444444,\"#bd3786\"],[0.5555555555555556,\"#d8576b\"],[0.6666666666666666,\"#ed7953\"],[0.7777777777777778,\"#fb9f3a\"],[0.8888888888888888,\"#fdca26\"],[1.0,\"#f0f921\"]]}],\"contourcarpet\":[{\"type\":\"contourcarpet\",\"colorbar\":{\"outlinewidth\":0,\"ticks\":\"\"}}],\"contour\":[{\"type\":\"contour\",\"colorbar\":{\"outlinewidth\":0,\"ticks\":\"\"},\"colorscale\":[[0.0,\"#0d0887\"],[0.1111111111111111,\"#46039f\"],[0.2222222222222222,\"#7201a8\"],[0.3333333333333333,\"#9c179e\"],[0.4444444444444444,\"#bd3786\"],[0.5555555555555556,\"#d8576b\"],[0.6666666666666666,\"#ed7953\"],[0.7777777777777778,\"#fb9f3a\"],[0.8888888888888888,\"#fdca26\"],[1.0,\"#f0f921\"]]}],\"surface\":[{\"type\":\"surface\",\"colorbar\":{\"outlinewidth\":0,\"ticks\":\"\"},\"colorscale\":[[0.0,\"#0d0887\"],[0.1111111111111111,\"#46039f\"],[0.2222222222222222,\"#7201a8\"],[0.3333333333333333,\"#9c179e\"],[0.4444444444444444,\"#bd3786\"],[0.5555555555555556,\"#d8576b\"],[0.6666666666666666,\"#ed7953\"],[0.7777777777777778,\"#fb9f3a\"],[0.8888888888888888,\"#fdca26\"],[1.0,\"#f0f921\"]]}],\"mesh3d\":[{\"type\":\"mesh3d\",\"colorbar\":{\"outlinewidth\":0,\"ticks\":\"\"}}],\"scatter\":[{\"fillpattern\":{\"fillmode\":\"overlay\",\"size\":10,\"solidity\":0.2},\"type\":\"scatter\"}],\"parcoords\":[{\"type\":\"parcoords\",\"line\":{\"colorbar\":{\"outlinewidth\":0,\"ticks\":\"\"}}}],\"scatterpolargl\":[{\"type\":\"scatterpolargl\",\"marker\":{\"colorbar\":{\"outlinewidth\":0,\"ticks\":\"\"}}}],\"bar\":[{\"error_x\":{\"color\":\"#2a3f5f\"},\"error_y\":{\"color\":\"#2a3f5f\"},\"marker\":{\"line\":{\"color\":\"#E5ECF6\",\"width\":0.5},\"pattern\":{\"fillmode\":\"overlay\",\"size\":10,\"solidity\":0.2}},\"type\":\"bar\"}],\"scattergeo\":[{\"type\":\"scattergeo\",\"marker\":{\"colorbar\":{\"outlinewidth\":0,\"ticks\":\"\"}}}],\"scatterpolar\":[{\"type\":\"scatterpolar\",\"marker\":{\"colorbar\":{\"outlinewidth\":0,\"ticks\":\"\"}}}],\"histogram\":[{\"marker\":{\"pattern\":{\"fillmode\":\"overlay\",\"size\":10,\"solidity\":0.2}},\"type\":\"histogram\"}],\"scattergl\":[{\"type\":\"scattergl\",\"marker\":{\"colorbar\":{\"outlinewidth\":0,\"ticks\":\"\"}}}],\"scatter3d\":[{\"type\":\"scatter3d\",\"line\":{\"colorbar\":{\"outlinewidth\":0,\"ticks\":\"\"}},\"marker\":{\"colorbar\":{\"outlinewidth\":0,\"ticks\":\"\"}}}],\"scattermapbox\":[{\"type\":\"scattermapbox\",\"marker\":{\"colorbar\":{\"outlinewidth\":0,\"ticks\":\"\"}}}],\"scatterternary\":[{\"type\":\"scatterternary\",\"marker\":{\"colorbar\":{\"outlinewidth\":0,\"ticks\":\"\"}}}],\"scattercarpet\":[{\"type\":\"scattercarpet\",\"marker\":{\"colorbar\":{\"outlinewidth\":0,\"ticks\":\"\"}}}],\"carpet\":[{\"aaxis\":{\"endlinecolor\":\"#2a3f5f\",\"gridcolor\":\"white\",\"linecolor\":\"white\",\"minorgridcolor\":\"white\",\"startlinecolor\":\"#2a3f5f\"},\"baxis\":{\"endlinecolor\":\"#2a3f5f\",\"gridcolor\":\"white\",\"linecolor\":\"white\",\"minorgridcolor\":\"white\",\"startlinecolor\":\"#2a3f5f\"},\"type\":\"carpet\"}],\"table\":[{\"cells\":{\"fill\":{\"color\":\"#EBF0F8\"},\"line\":{\"color\":\"white\"}},\"header\":{\"fill\":{\"color\":\"#C8D4E3\"},\"line\":{\"color\":\"white\"}},\"type\":\"table\"}],\"barpolar\":[{\"marker\":{\"line\":{\"color\":\"#E5ECF6\",\"width\":0.5},\"pattern\":{\"fillmode\":\"overlay\",\"size\":10,\"solidity\":0.2}},\"type\":\"barpolar\"}],\"pie\":[{\"automargin\":true,\"type\":\"pie\"}]},\"layout\":{\"autotypenumbers\":\"strict\",\"colorway\":[\"#636efa\",\"#EF553B\",\"#00cc96\",\"#ab63fa\",\"#FFA15A\",\"#19d3f3\",\"#FF6692\",\"#B6E880\",\"#FF97FF\",\"#FECB52\"],\"font\":{\"color\":\"#2a3f5f\"},\"hovermode\":\"closest\",\"hoverlabel\":{\"align\":\"left\"},\"paper_bgcolor\":\"white\",\"plot_bgcolor\":\"#E5ECF6\",\"polar\":{\"bgcolor\":\"#E5ECF6\",\"angularaxis\":{\"gridcolor\":\"white\",\"linecolor\":\"white\",\"ticks\":\"\"},\"radialaxis\":{\"gridcolor\":\"white\",\"linecolor\":\"white\",\"ticks\":\"\"}},\"ternary\":{\"bgcolor\":\"#E5ECF6\",\"aaxis\":{\"gridcolor\":\"white\",\"linecolor\":\"white\",\"ticks\":\"\"},\"baxis\":{\"gridcolor\":\"white\",\"linecolor\":\"white\",\"ticks\":\"\"},\"caxis\":{\"gridcolor\":\"white\",\"linecolor\":\"white\",\"ticks\":\"\"}},\"coloraxis\":{\"colorbar\":{\"outlinewidth\":0,\"ticks\":\"\"}},\"colorscale\":{\"sequential\":[[0.0,\"#0d0887\"],[0.1111111111111111,\"#46039f\"],[0.2222222222222222,\"#7201a8\"],[0.3333333333333333,\"#9c179e\"],[0.4444444444444444,\"#bd3786\"],[0.5555555555555556,\"#d8576b\"],[0.6666666666666666,\"#ed7953\"],[0.7777777777777778,\"#fb9f3a\"],[0.8888888888888888,\"#fdca26\"],[1.0,\"#f0f921\"]],\"sequentialminus\":[[0.0,\"#0d0887\"],[0.1111111111111111,\"#46039f\"],[0.2222222222222222,\"#7201a8\"],[0.3333333333333333,\"#9c179e\"],[0.4444444444444444,\"#bd3786\"],[0.5555555555555556,\"#d8576b\"],[0.6666666666666666,\"#ed7953\"],[0.7777777777777778,\"#fb9f3a\"],[0.8888888888888888,\"#fdca26\"],[1.0,\"#f0f921\"]],\"diverging\":[[0,\"#8e0152\"],[0.1,\"#c51b7d\"],[0.2,\"#de77ae\"],[0.3,\"#f1b6da\"],[0.4,\"#fde0ef\"],[0.5,\"#f7f7f7\"],[0.6,\"#e6f5d0\"],[0.7,\"#b8e186\"],[0.8,\"#7fbc41\"],[0.9,\"#4d9221\"],[1,\"#276419\"]]},\"xaxis\":{\"gridcolor\":\"white\",\"linecolor\":\"white\",\"ticks\":\"\",\"title\":{\"standoff\":15},\"zerolinecolor\":\"white\",\"automargin\":true,\"zerolinewidth\":2},\"yaxis\":{\"gridcolor\":\"white\",\"linecolor\":\"white\",\"ticks\":\"\",\"title\":{\"standoff\":15},\"zerolinecolor\":\"white\",\"automargin\":true,\"zerolinewidth\":2},\"scene\":{\"xaxis\":{\"backgroundcolor\":\"#E5ECF6\",\"gridcolor\":\"white\",\"linecolor\":\"white\",\"showbackground\":true,\"ticks\":\"\",\"zerolinecolor\":\"white\",\"gridwidth\":2},\"yaxis\":{\"backgroundcolor\":\"#E5ECF6\",\"gridcolor\":\"white\",\"linecolor\":\"white\",\"showbackground\":true,\"ticks\":\"\",\"zerolinecolor\":\"white\",\"gridwidth\":2},\"zaxis\":{\"backgroundcolor\":\"#E5ECF6\",\"gridcolor\":\"white\",\"linecolor\":\"white\",\"showbackground\":true,\"ticks\":\"\",\"zerolinecolor\":\"white\",\"gridwidth\":2}},\"shapedefaults\":{\"line\":{\"color\":\"#2a3f5f\"}},\"annotationdefaults\":{\"arrowcolor\":\"#2a3f5f\",\"arrowhead\":0,\"arrowwidth\":1},\"geo\":{\"bgcolor\":\"white\",\"landcolor\":\"#E5ECF6\",\"subunitcolor\":\"white\",\"showland\":true,\"showlakes\":true,\"lakecolor\":\"white\"},\"title\":{\"x\":0.05},\"mapbox\":{\"style\":\"light\"}}},\"title\":{\"text\":\"New User Message Volume by Date - Hover for Percentage\"},\"barmode\":\"overlay\",\"yaxis\":{\"title\":{\"text\":\"Message Count\"}},\"xaxis\":{\"title\":{\"text\":\"Date\"}}},                        {\"responsive\": true}                    ).then(function(){\n",
       "                            \n",
       "var gd = document.getElementById('389ee14a-785c-415b-a986-b8feb87e3371');\n",
       "var x = new MutationObserver(function (mutations, observer) {{\n",
       "        var display = window.getComputedStyle(gd).display;\n",
       "        if (!display || display === 'none') {{\n",
       "            console.log([gd, 'removed!']);\n",
       "            Plotly.purge(gd);\n",
       "            observer.disconnect();\n",
       "        }}\n",
       "}});\n",
       "\n",
       "// Listen for the removal of the full notebook cells\n",
       "var notebookContainer = gd.closest('#notebook-container');\n",
       "if (notebookContainer) {{\n",
       "    x.observe(notebookContainer, {childList: true});\n",
       "}}\n",
       "\n",
       "// Listen for the clearing of the current output cell\n",
       "var outputEl = gd.closest('.output');\n",
       "if (outputEl) {{\n",
       "    x.observe(outputEl, {childList: true});\n",
       "}}\n",
       "\n",
       "                        })                };                });            </script>        </div>"
      ]
     },
     "metadata": {},
     "output_type": "display_data"
    }
   ],
   "source": [
    "\n",
    "fig = plotly.graph_objects.Figure(data=[\n",
    "        plotly.graph_objects.Bar(\n",
    "            name='All Messages',\n",
    "            y=b['message_count'],\n",
    "            x=b['date'],\n",
    "            customdata=b['pct'].array,\n",
    "            hovertemplate=\"<br>\".join([\n",
    "                \"%{x}\",\n",
    "                \"<b>%{customdata:.1f}% New User Messages</b>\",\n",
    "                \"<b>Total Messages Sent:</b> %{y}\"\n",
    "            ]),\n",
    "        ),\n",
    "        plotly.graph_objects.Bar(\n",
    "            name='New User Messages',\n",
    "            y=b['new_user_messages_count'],\n",
    "            x=b['date'],\n",
    "            customdata=b['pct'],\n",
    "            hovertemplate=\"<br>\".join([\n",
    "                \"%{x}\",\n",
    "                \"<b>%{customdata:.1f}% New User Messages</b>\",\n",
    "                \"<b>New User Messages:</b> %{y}\"\n",
    "            ]),\n",
    "        )\n",
    "])\n",
    "fig.update_layout(barmode='overlay', title_text=\"New User Message Volume by Date - Hover for Percentage\")\n",
    "fig.update_yaxes(title='Message Count')\n",
    "fig.update_xaxes(title='Date')\n",
    "# fig.update_traces(hovertemplate=hovertemp)\n",
    "fig.show()\n"
   ]
  },
  {
   "cell_type": "markdown",
   "metadata": {
    "id": "DDe4I-E-_1M-"
   },
   "source": [
    "### Task 2 (Django)\n",
    "**To take the django portion of this test go to: https://github.com/llu13701/cm1_python_test and follow the instructions.**"
   ]
  },
  {
   "cell_type": "markdown",
   "metadata": {
    "id": "hF_IbJXY_rV5"
   },
   "source": [
    "<https://github.com/zeebrow/django_reddit.git>\n",
    "\n",
    "### 1 name and date\n",
    "\n",
    "<img src='djangopics/1-name-date.png'>\n",
    "\n",
    "### 2 show url and link to comments\n",
    "\n",
    "<img src='djangopics/2-link-to-comments-show-link.png'>\n",
    "\n",
    "### 3 profile with submissions and comments\n",
    "\n",
    "<img src='djangopics/3-profile-submissions-comments.png'>\n",
    "\n",
    "### 4 edit dialog\n",
    "\n",
    "<img src='djangopics/4-1-needs-edit.png'>\n",
    "<img src='djangopics/4-2-edited.png'>\n",
    "\n",
    "### 5 video of edits\n",
    "\n",
    "<https://youtu.be/fuyMKXz_H7Q>"
   ]
  },
  {
   "cell_type": "markdown",
   "metadata": {
    "id": "o6MoFpH7_tn2"
   },
   "source": [
    "### Task 3 (LangChain)\n",
    "Write a simple Chain that does the following:\n",
    "- Uses openai's gpt-3.5-turbo model.\n",
    "- Remembers the last 2 message exchanges, as well as the system message.\n",
    "- Greets people and tells a joke about their name."
   ]
  },
  {
   "cell_type": "code",
   "execution_count": null,
   "metadata": {
    "id": "flO7_-oA_xXv"
   },
   "outputs": [],
   "source": [
    "load_dotenv()\n",
    "\n",
    "\n",
    "chat = chat_models.ChatOpenAI(\n",
    "    model=\"gpt-3.5-turbo\",\n",
    "    openai_api_key=os.getenv(\"OPENAI_API_KEY\"),\n",
    "    temperature=0.8\n",
    ")\n",
    "\n",
    "SPECIAL_SAUCE = \"Be kid-friendly.\"\n",
    "# SPECIAL_SAUCE = \"Be absolutely brutal. Show no mercy, nor apologies.\"\n",
    "# SPECIAL_SAUCE = \"Make sure the joke would be awesome to tell during a job interview.\"\n",
    "system_prompt_template = \"Greet the discord users with a joke about their name.\"\n",
    "system_prompt_template = \" \".join([\n",
    "    system_prompt_template, \n",
    "    SPECIAL_SAUCE, \n",
    "    \"Do not respond with questions.\",\n",
    "])\n",
    "human_prompt_template = \"{username} has joined.\"\n",
    "\n",
    "\n",
    "system_prompt = SystemMessagePromptTemplate(\n",
    "    prompt=PromptTemplate(\n",
    "        template=system_prompt_template,\n",
    "        input_variables=[]\n",
    "    )\n",
    ")\n",
    "\n",
    "history = ChatMessageHistory()\n",
    "name = input(\"what is your discord name? \")\n",
    "\n",
    "human_prompt_username = HumanMessagePromptTemplate(\n",
    "    prompt=PromptTemplate(\n",
    "        template=human_prompt_template,\n",
    "        input_variables=['username']\n",
    "    )\n",
    ")\n",
    "\n",
    "history.add_message(system_prompt)\n",
    "history.add_message(human_prompt_username.format(username=name))\n",
    "\n",
    "chat_prompt = ChatPromptTemplate.from_messages(history.messages)\n",
    "chain = LLMChain(llm=chat, prompt=chat_prompt)\n",
    "\n",
    "cr = chain.run({'username': name})\n",
    "print(cr)\n",
    "history.add_ai_message(cr)\n",
    "\n",
    "response_text = input(\"Tell the chatbot what you thought of the joke! \")\n",
    "human_prompt_response = HumanMessagePromptTemplate(\n",
    "    prompt=PromptTemplate(\n",
    "        template=\"{text}\",\n",
    "        input_variables=['text']\n",
    "    )\n",
    ")\n",
    "\n",
    "history.add_message(human_prompt_response.format(text=response_text))\n",
    "\n",
    "chat_prompt = ChatPromptTemplate.from_messages(history.messages)\n",
    "chain = LLMChain(llm=chat, prompt=chat_prompt)\n",
    "cr = chain.run({\n",
    "    'username': name,\n",
    "    'text' : response_text\n",
    "})\n",
    "print(cr)"
   ]
  },
  {
   "cell_type": "markdown",
   "metadata": {
    "id": "HMAawESH_32U"
   },
   "source": [
    "### Task 4 (Discord API)\n",
    "\n",
    "Write a very simple discord bot that says \"Hello {user_name}!\" to every new incoming message in a discord server.\n"
   ]
  },
  {
   "cell_type": "code",
   "execution_count": null,
   "metadata": {
    "id": "D_xPdNDk_4OY"
   },
   "outputs": [],
   "source": [
    "load_dotenv()\n",
    "\n",
    "# Bot:\n",
    "intents = discord.Intents.default()\n",
    "intents.message_content = True\n",
    "\n",
    "\n",
    "TOKEN = os.getenv('DISCORD_TOKEN')\n",
    "\n",
    "\n",
    "client = discord.Client(intents=intents)\n",
    "\n",
    "@client.event\n",
    "async def on_ready():\n",
    "    print(f'We have logged in as {client.user}')\n",
    "\n",
    "@client.event\n",
    "async def on_message(message):\n",
    "    if message.author == client.user:\n",
    "        return\n",
    "    await message.channel.send(f\"Hello, {message.author.global_name}!\")\n",
    "    return\n",
    "\n",
    "client.run(TOKEN)"
   ]
  },
  {
   "cell_type": "markdown",
   "metadata": {
    "id": "shZgOMw7_4fS"
   },
   "source": [
    "### Task 5\n",
    "Use LangChain to write a discord bot that will:\n",
    "- Greet a user, making a joke about their name and then proceed to answer any question they have, whenever a user sends a message.\n",
    "- Use async with langchain chain calls.\n"
   ]
  },
  {
   "cell_type": "code",
   "execution_count": null,
   "metadata": {
    "id": "6Wxh-dWx_4oy"
   },
   "outputs": [],
   "source": [
    "\n",
    "load_dotenv()\n",
    "\n",
    "# Session:\n",
    "CHAT_CACHE: Dict[str, List[str]] = {}\n",
    "\n",
    "chat = chat_models.ChatOpenAI(\n",
    "    model=\"gpt-3.5-turbo\",\n",
    "    openai_api_key=os.getenv(\"OPENAI_API_KEY\"),\n",
    "    temperature=0.8\n",
    ")\n",
    "\n",
    "SPECIAL_SAUCE = \"Be kid-friendly.\"\n",
    "# SPECIAL_SAUCE = \"They are a priest.\"\n",
    "# SPECIAL_SAUCE = \"Roast them.\"\n",
    "# SPECIAL_SAUCE = \"Be absolutely brutal. Show no mercy, nor apologies.\"\n",
    "# SPECIAL_SAUCE = \"Make sure the joke would be awesome to tell during a job interview.\"\n",
    "# SPECIAL_SAUCE = \"\"\n",
    "system_prompt_template = \"Greet the discord user named {username} with a joke about their name.\"\n",
    "system_prompt_template = \" \".join([\n",
    "    system_prompt_template, \n",
    "    SPECIAL_SAUCE, \n",
    "    \"Do not respond with questions.\",\n",
    "])\n",
    "human_prompt_template = \"{text}\"\n",
    "\n",
    "def start_chat(who: str, text: str) -> str:\n",
    "    global CHAT_CACHE\n",
    "    CHAT_CACHE[who] = []\n",
    "    \n",
    "    system_prompt = SystemMessagePromptTemplate.from_template(system_prompt_template)\n",
    "    human_prompt = HumanMessagePromptTemplate.from_template(human_prompt_template)\n",
    "    chat_prompt = ChatPromptTemplate.from_messages([system_prompt, human_prompt])\n",
    "#     chain = LLMChain(llm=chat, prompt=chat_prompt)\n",
    "#     resp = chain.run(username=who, text=text)\n",
    "    msgs = chat_prompt.format_prompt(username=who, text=text).to_messages()\n",
    "    resp = chat(msgs)\n",
    "    for msg in msgs:\n",
    "        CHAT_CACHE[who].append(msg)\n",
    "    CHAT_CACHE[who].append(resp)\n",
    "    return resp.content\n",
    "    \n",
    "\n",
    "def respond_to_model(who: str, text: str):\n",
    "    global CHAT_CACHE\n",
    "    human_prompt = HumanMessagePromptTemplate.from_template(human_prompt_template)\n",
    "    past_msgs = CHAT_CACHE[who]\n",
    "    print(past_msgs)\n",
    "\n",
    "    chat_prompt = ChatPromptTemplate.from_messages([*past_msgs, human_prompt])\n",
    "    msgs = chat_prompt.format_prompt(text=text).to_messages()\n",
    "    resp = chat(msgs)\n",
    "    for msg in msgs:\n",
    "        CHAT_CACHE[who].append(msg)\n",
    "    CHAT_CACHE[who].append(resp)\n",
    "    return resp.content\n",
    "\n",
    "\n",
    "def cleanup(who: str):\n",
    "    print(f\"cleaning up session with {who}\")\n",
    "    global CHAT_CACHE\n",
    "    del CHAT_CACHE[who]\n",
    "\n",
    "\n",
    "\n",
    "# Bot:\n",
    "intents = discord.Intents.default()\n",
    "intents.message_content = True\n",
    "\n",
    "\n",
    "TOKEN = os.getenv('DISCORD_TOKEN')\n",
    "\n",
    "\n",
    "client = discord.Client(intents=intents)\n",
    "\n",
    "@client.event\n",
    "async def on_ready():\n",
    "    print(f'We have logged in as {client.user}')\n",
    "\n",
    "@client.event\n",
    "async def on_message(message):\n",
    "    if message.author == client.user:\n",
    "        return\n",
    "    user = message.author.global_name\n",
    "    text = message.content\n",
    "    if user in CHAT_CACHE.keys():\n",
    "        ai_response = respond_to_model(user, text)\n",
    "        await message.channel.send(ai_response)\n",
    "        cleanup(user)\n",
    "    else:\n",
    "        ai_response = start_chat(user, text)\n",
    "        await message.channel.send(ai_response)\n",
    "    return\n",
    "\n",
    "client.run(TOKEN)"
   ]
  },
  {
   "cell_type": "code",
   "execution_count": null,
   "metadata": {
    "id": "gxofoCWyCw6t"
   },
   "outputs": [],
   "source": []
  }
 ],
 "metadata": {
  "colab": {
   "include_colab_link": true,
   "provenance": []
  },
  "kernelspec": {
   "display_name": "Python 3 (ipykernel)",
   "language": "python",
   "name": "python3"
  },
  "language_info": {
   "codemirror_mode": {
    "name": "ipython",
    "version": 3
   },
   "file_extension": ".py",
   "mimetype": "text/x-python",
   "name": "python",
   "nbconvert_exporter": "python",
   "pygments_lexer": "ipython3",
   "version": "3.10.6"
  }
 },
 "nbformat": 4,
 "nbformat_minor": 1
}
